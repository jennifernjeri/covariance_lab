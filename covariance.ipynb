height = [68, 71, 61, 69, 71, 58, 72, 73, 58, 74, 
          61, 59, 69, 68, 64, 69, 72, 66, 65, 69]
weight = [165, 201, 140, 170, 192, 125, 195, 205, 
          115, 210, 135, 125, 172, 175, 145, 170, 
          200, 155, 150, 171]

#A function to find normalized mean
def mean_normalize(var):
    # Initialize a list for storing normalized values
    mean_normalized_list = []
    
    # Calculate the mean of var
    mean = sum(var) / len(var)
    
    # For each element in var, subtract the mean and add the result to the new list
    for num in var:
        mean_normalized_list.append(num - mean)
    
    # Return the new list
    return mean_normalized_list

print(mean_normalize(height)) 
print(mean_normalize(weight))
